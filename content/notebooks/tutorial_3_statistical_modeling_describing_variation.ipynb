{
 "metadata": {
  "name": ""
 },
 "nbformat": 3,
 "nbformat_minor": 0,
 "worksheets": [
  {
   "cells": [
    {
     "cell_type": "markdown",
     "metadata": {},
     "source": [
      "In the 1880s, Sir Francis Galton, one of the pioneers of statistics, collected data on the heights of approximately 900 adult children and their parents in London. Galton was interested in studying the relationship between a full-grown child's height and his or her mother's and father's height. In order to do so, Galton collected height measurements from about 200 families in the city of London.\n",
      "\n",
      "As a setting to illustrate computer techniques for describing variability, take the data that Galton collected on the heights of adult children and their parents. The file `\"galton.csv\"` stores these data in a modern, case/variable format.\n",
      "\n",
      "<span class=\"dataset shadow\"><i class=\"icon-flag\" style=\"font-size: 1.5em;\"></i> [`galton.csv`][link]</span>\n",
      "\n",
      "[link]: http://www.mosaic-web.org/go/datasets/galton.csv"
     ]
    },
    {
     "cell_type": "code",
     "collapsed": false,
     "input": [
      "import numpy as np\n",
      "import pandas as pd\n",
      "gal = pd.read_csv(\"http://www.mosaic-web.org/go/datasets/galton.csv\")"
     ],
     "language": "python",
     "metadata": {},
     "outputs": [],
     "prompt_number": 1
    },
    {
     "cell_type": "markdown",
     "metadata": {},
     "source": [
      "## Simple Statistical Calculations\n",
      "\n",
      "Simple numerical descriptions are easy to compute. Here are the mean, median, standard deviation and variance of the children's heights (in inches)."
     ]
    },
    {
     "cell_type": "code",
     "collapsed": false,
     "input": [
      "gal.height.mean()"
     ],
     "language": "python",
     "metadata": {},
     "outputs": [
      {
       "metadata": {},
       "output_type": "pyout",
       "prompt_number": 2,
       "text": [
        "66.760690423162515"
       ]
      }
     ],
     "prompt_number": 2
    },
    {
     "cell_type": "code",
     "collapsed": false,
     "input": [
      "gal.height.median()"
     ],
     "language": "python",
     "metadata": {},
     "outputs": [
      {
       "metadata": {},
       "output_type": "pyout",
       "prompt_number": 3,
       "text": [
        "66.5"
       ]
      }
     ],
     "prompt_number": 3
    },
    {
     "cell_type": "code",
     "collapsed": false,
     "input": [
      "gal.height.std()"
     ],
     "language": "python",
     "metadata": {},
     "outputs": [
      {
       "metadata": {},
       "output_type": "pyout",
       "prompt_number": 4,
       "text": [
        "3.5829184699744614"
       ]
      }
     ],
     "prompt_number": 4
    },
    {
     "cell_type": "code",
     "collapsed": false,
     "input": [
      "gal.height.var()"
     ],
     "language": "python",
     "metadata": {},
     "outputs": [
      {
       "metadata": {},
       "output_type": "pyout",
       "prompt_number": 5,
       "text": [
        "12.837304762484134"
       ]
      }
     ],
     "prompt_number": 5
    },
    {
     "cell_type": "markdown",
     "metadata": {},
     "source": [
      "Notice that the variance function (`var()`) returns the square of the standard deviation (`std()`). Having both is merely a convenience. A percentile tells where a given value falls in a distribution. For example, a height of 63 inches is on the short side in Galton\u2019s data:"
     ]
    },
    {
     "cell_type": "code",
     "collapsed": false,
     "input": [
      "import scipy.stats as st # import some useful stats function from the scipy.stats library\n",
      "st.percentileofscore(gal.height.values, 63, kind=\"weak\")"
     ],
     "language": "python",
     "metadata": {},
     "outputs": [
      {
       "metadata": {},
       "output_type": "pyout",
       "prompt_number": 6,
       "text": [
        "19.153674832962139"
       ]
      }
     ],
     "prompt_number": 6
    },
    {
     "cell_type": "markdown",
     "metadata": {},
     "source": [
      "<span class=\"note right shadow\">\n",
      "Note that in the above case, `kind=\"weak\"` corresponds to the definition of a 'cumulative distribution function'. A `percentileofscore()` of 80% means that 80% of values are less than or equal to the provided score. This usage is consistent with how the 'mosaic' R package calculates percentiles, using the `pdata` function.\n",
      "</span>"
     ]
    },
    {
     "cell_type": "markdown",
     "metadata": {},
     "source": [
      "Only about 19% of the cases have a height less than or equal to 63 inches. The `percentileofscore()` function from the `scipy.stats` package takes an array (values in a column) as a first argument and finds where the 'score' (second argument) falls in the distribution of values in the array. We use the `values` attribute of the `height` column from the `gal` data frame to get the values in the column as an `array`.\n",
      "\n",
      "A quantile refers to the same sort of calculation, but inverted. Instead of giving a value in the same units as the distribution, you give a percentage: a number between 0 and 100. The `scoreatpercentile()` function then calculates the value whose percentile would be that value:"
     ]
    },
    {
     "cell_type": "code",
     "collapsed": false,
     "input": [
      "st.scoreatpercentile(gal.height.values, per=20)"
     ],
     "language": "python",
     "metadata": {},
     "outputs": [
      {
       "metadata": {},
       "output_type": "pyout",
       "prompt_number": 7,
       "text": [
        "63.5"
       ]
      }
     ],
     "prompt_number": 7
    },
    {
     "cell_type": "markdown",
     "metadata": {},
     "source": [
      "<span class=\"note left shadow\">\n",
      "Note that numpy has a simpler version of this function, but it uses a different naming convention which readers of 'Statistical Modeling: A Fresh Approach' and these tutorials might find confusing. In this case, the function is called `percentile`, and returns the 'score' or value at a given percentile. For example, `np.percentile(gal.height, 20)` returns `63.5` as in the above example.\n",
      "</span>"
     ]
    },
    {
     "cell_type": "markdown",
     "metadata": {},
     "source": [
      "You can also use the following functionality from 'pandas' which is consistent with how the 'mosaic' R package calculates quantiles, using the `qdata` function, and is a bit simpler. Note that instead of a percentage, a probability is given (a number between 0 and 1), but the output is the same."
     ]
    },
    {
     "cell_type": "code",
     "collapsed": false,
     "input": [
      "gal.height.quantile(0.2)"
     ],
     "language": "python",
     "metadata": {},
     "outputs": [
      {
       "metadata": {},
       "output_type": "pyout",
       "prompt_number": 8,
       "text": [
        "63.5"
       ]
      }
     ],
     "prompt_number": 8
    },
    {
     "cell_type": "markdown",
     "metadata": {},
     "source": [
      "Building on this, the 25th and 75th percentiles - in other words, the 50 percent coverage interval, can be computed as:"
     ]
    },
    {
     "cell_type": "code",
     "collapsed": false,
     "input": [
      "gal.height.quantile(.25), gal.height.quantile(.75)"
     ],
     "language": "python",
     "metadata": {},
     "outputs": [
      {
       "metadata": {},
       "output_type": "pyout",
       "prompt_number": 9,
       "text": [
        "(64.0, 69.700000000000003)"
       ]
      }
     ],
     "prompt_number": 9
    },
    {
     "cell_type": "markdown",
     "metadata": {},
     "source": [
      "The 50 percent coverage interval can *also* be computed as a single command using 'list comprehension' - a 'Pythonic' way to clearly and concisely construct lists."
     ]
    },
    {
     "cell_type": "code",
     "collapsed": false,
     "input": [
      "[gal.height.quantile(q) for q in [.25, .75]]"
     ],
     "language": "python",
     "metadata": {},
     "outputs": [
      {
       "metadata": {},
       "output_type": "pyout",
       "prompt_number": 10,
       "text": [
        "[64.0, 69.700000000000003]"
       ]
      }
     ],
     "prompt_number": 10
    },
    {
     "cell_type": "markdown",
     "metadata": {},
     "source": [
      "<span class=\"note right shadow\">\n",
      "[List comprehensions][lists] can be used to construct lists in a very natural, easy way, like a mathematician is used to do. The following are common ways to describe lists (or sets, or tuples, or vectors) in mathematics:  \n",
      "$S = \\{ x^{2} : \\{x \\in 0 \\dots 9\\} \\}$  \n",
      "$V = (1, 2, 4, 8, \\dots, 2^{12})$  \n",
      "$M = \\{x$ $|$ $x$ $\\in S$ and $x$ even$\\}$  \n",
      "You probably know things like the above from previous math courses. In Python, you can write these expression almost exactly like a mathematician would do, without having to remember any special cryptic syntax. This is how you do the above in Python:  \n",
      "`S = [x**2 for x in range(10)]`  \n",
      "`V = [2**i for i in range(13)]`  \n",
      "`M = [x for x in S if x % 2 == 0]`  \n",
      "</span>\n",
      "\n",
      "[lists]: http://www.secnetix.de/olli/Python/list_comprehensions.hawk"
     ]
    },
    {
     "cell_type": "markdown",
     "metadata": {},
     "source": [
      "We can use the same techniques to compute the 2.5th and 97.5th percentiles - in other words, the 95 percent coverage interval:"
     ]
    },
    {
     "cell_type": "code",
     "collapsed": false,
     "input": [
      "[gal.height.quantile(q) for q in [.025, .975]]"
     ],
     "language": "python",
     "metadata": {},
     "outputs": [
      {
       "metadata": {},
       "output_type": "pyout",
       "prompt_number": 11,
       "text": [
        "[60.0, 73.0]"
       ]
      }
     ],
     "prompt_number": 11
    },
    {
     "cell_type": "markdown",
     "metadata": {},
     "source": [
      "Another simple way to compute different coverage intervals is to provide a `percentile_width` argument to the `describe()` function:"
     ]
    },
    {
     "cell_type": "code",
     "collapsed": false,
     "input": [
      "gal.height.describe(percentile_width=50)[[4,6]] # Subset to return only the coverage interval values"
     ],
     "language": "python",
     "metadata": {},
     "outputs": [
      {
       "metadata": {},
       "output_type": "pyout",
       "prompt_number": 12,
       "text": [
        "25%    64.0\n",
        "75%    69.7\n",
        "Name: height, dtype: float64"
       ]
      }
     ],
     "prompt_number": 12
    },
    {
     "cell_type": "markdown",
     "metadata": {},
     "source": [
      "The interquartile range is the width of the 50 percent coverage interval: the di\ufb00erence between the 75th and 25th percentiles:"
     ]
    },
    {
     "cell_type": "code",
     "collapsed": false,
     "input": [
      "np.diff([gal.height.quantile(q) for q in [.25, .75]])"
     ],
     "language": "python",
     "metadata": {},
     "outputs": [
      {
       "metadata": {},
       "output_type": "pyout",
       "prompt_number": 13,
       "text": [
        "array([ 5.7])"
       ]
      }
     ],
     "prompt_number": 13
    },
    {
     "cell_type": "markdown",
     "metadata": {},
     "source": [
      "## Simple Statistical Graphics\n",
      "\n",
      "There are several basic types of statistical graphics to display the distribution of a variable: histograms, density plots, and boxplots. These work in a manner that's similar to `mean()`, `quantile()` and so on in terms of syntax, but there are a few important additional items to consider. Firstly, most plotting functions we use will come from the 'matplotlib' Python library, which integrates nicely with numpy and other Scientific Python libraries. There are several different ways that we can interact with 'matplotlib', inlcuding via the `pyplot` interface (which is simply a submodule of 'matplotlib' and is useful for 'scripting') and the `pylab` interface, which is useful for interactive plotting."
     ]
    },
    {
     "cell_type": "markdown",
     "metadata": {},
     "source": [
      "<span class=\"note right shadow\">\n",
      "If you prefer to use the `pyplot` interface, then remember to import it in the usual way at the beginning of your Python session: `import matplotlib.pyplot`\n",
      "</span>"
     ]
    },
    {
     "cell_type": "markdown",
     "metadata": {},
     "source": [
      "<span class=\"note left shadow\">\n",
      "If you want interactive plotting (and why wouldn't you?!), start 'IPython' with the `--pylab` flag. With this flag enabled, you don't have to `import matplotlib`, as it will be done for you automatically):\n",
      "```\n",
      "ipython --pylab\n",
      "```\n",
      "Or, for inline figures in an IPython qtconsole or notebook, use:\n",
      "```\n",
      "ipython notebook --pylab inline\n",
      "```\n",
      "</span>"
     ]
    },
    {
     "cell_type": "markdown",
     "metadata": {},
     "source": [
      "### Histograms and Distributions\n",
      "\n",
      "Constructing a histogram involves dividing the range of a variable up into bins and counting how many cases fall into each bin. This is done in an almost entirely automatic way using the `hist()` function from a column in a dataframe:"
     ]
    },
    {
     "cell_type": "code",
     "collapsed": false,
     "input": [
      "h = gal.height.hist()"
     ],
     "language": "python",
     "metadata": {},
     "outputs": [
      {
       "metadata": {},
       "output_type": "display_data",
       "png": "[encoded data removed]",
       "text": [
        "<matplotlib.figure.Figure at 0x38c7a10>"
       ]
      }
     ],
     "prompt_number": 14
    },
    {
     "cell_type": "markdown",
     "metadata": {},
     "source": [
      "You can also create a histogram using 'pylab' commands directly:"
     ]
    },
    {
     "cell_type": "code",
     "collapsed": false,
     "input": [
      "h = hist(gal.height.values)"
     ],
     "language": "python",
     "metadata": {},
     "outputs": [
      {
       "metadata": {},
       "output_type": "display_data",
       "png": "[encoded data removed]",
       "text": [
        "<matplotlib.figure.Figure at 0x3997a90>"
       ]
      }
     ],
     "prompt_number": 15
    },
    {
     "cell_type": "markdown",
     "metadata": {},
     "source": [
      "When constructing a histogram, Python makes an automatic but sensible choice of the number of bins. If you like, you can control this yourself. For instance:"
     ]
    },
    {
     "cell_type": "code",
     "collapsed": false,
     "input": [
      "h = gal.height.hist(bins=25)"
     ],
     "language": "python",
     "metadata": {},
     "outputs": [
      {
       "metadata": {},
       "output_type": "display_data",
       "png": "[encoded data removed]",
       "text": [
        "<matplotlib.figure.Figure at 0x3c054d0>"
       ]
      }
     ],
     "prompt_number": 16
    },
    {
     "cell_type": "markdown",
     "metadata": {},
     "source": [
      "The horizontal axis of the histogram is always in the units of the variable. For the histograms above, the horizontal axis is in \"inches\" because that is the unit of the height variable in the galton dataset. The vertical axis is conventionally drawn in one of two ways, controlled by an\n",
      "optional argument named `normed`:\n",
      "\n",
      "* Absolute Frequency or Counts - A simple count of the number of cases that falls into each bin. This is the default, as in:  \n",
      "    `gal.height.hist()`\n",
      "* Normalized - The vertical axis *area* of the bar gives the relative proportion of cases that fall into the bin. In other words, the areas can be interpreted as probabilities and the area under the entire histogram is equal to 1. Set the `normed` argument to `True`, as in:  \n",
      "    `gal.height.hist(normed=True)`\n",
      "\n",
      "You can also produce a histogram of relative frequencies, where the vertical axis is scaled so that the height of the bar give the proportion of cases that fall into the bin:\n",
      "\n",
      "```\n",
      "gal.height.hist(weights=np.zeros_like(gal.height) + 100. / len(gal.height))\n",
      "```"
     ]
    },
    {
     "cell_type": "markdown",
     "metadata": {},
     "source": [
      "Other useful optional 'pylab' commands set the labels for the axes and the graph as a whole and color the bars. For example,"
     ]
    },
    {
     "cell_type": "code",
     "collapsed": false,
     "input": [
      "xlabel(\"Height (inches)\")\n",
      "ylabel(\"Density\")\n",
      "title(\"Distribution of Heights\")\n",
      "grid()\n",
      "h = gal.height.hist(normed=True, color=\"grey\")\n",
      "show()"
     ],
     "language": "python",
     "metadata": {},
     "outputs": [
      {
       "metadata": {},
       "output_type": "display_data",
       "png": "[encoded data removed]",
       "text": [
        "<matplotlib.figure.Figure at 0x3992290>"
       ]
      }
     ],
     "prompt_number": 17
    },
    {
     "cell_type": "markdown",
     "metadata": {},
     "source": [
      "The above plot requires multiple lines of commands to produce. Python evaluates each line on its own, updating the plot as each command is issued. Once the histogram is created, we can 'show' it with `show()`. Notice also the use of quotation marks to delimit the labels and names like \"grey\"."
     ]
    },
    {
     "cell_type": "markdown",
     "metadata": {},
     "source": [
      "### Density Plots\n",
      "\n",
      "A density plot avoids the need to create bins and plots out the distribution as a continuous curve. Making a density plot generally involves two operations. First, a density function performs the basic density computation, which is then displayed using the `plot()` function. Pandas provides a shorthand for these two operations to produce a simple 'density plot' (where `kind=\"kde\"` stands for \"kind of plot equals 'kernel density estimator'\"):"
     ]
    },
    {
     "cell_type": "code",
     "collapsed": false,
     "input": [
      "d = gal.height.plot(kind=\"kde\")"
     ],
     "language": "python",
     "metadata": {},
     "outputs": [
      {
       "metadata": {},
       "output_type": "display_data",
       "png": "[encoded data removed]",
       "text": [
        "<matplotlib.figure.Figure at 0x3be4f50>"
       ]
      }
     ],
     "prompt_number": 18
    },
    {
     "cell_type": "markdown",
     "metadata": {},
     "source": [
      "### Box-and-Whisker Plots\n",
      "\n",
      "Box-and-whisker plots are made with the `boxplot()` command:"
     ]
    },
    {
     "cell_type": "code",
     "collapsed": false,
     "input": [
      "b = gal.boxplot(column=\"height\")"
     ],
     "language": "python",
     "metadata": {},
     "outputs": [
      {
       "metadata": {},
       "output_type": "display_data",
       "png": "[encoded data removed]",
       "text": [
        "<matplotlib.figure.Figure at 0x3998f10>"
       ]
      }
     ],
     "prompt_number": 19
    },
    {
     "cell_type": "markdown",
     "metadata": {},
     "source": [
      "The median is represented by the red line in the middle. Outliers, if any, are marked by `x`'s outside the whiskers.\n",
      "\n",
      "Note that instead of using `gal.height`, the `boxplot()` function operatres on the data frame, and takes the column name via the `column` argument. This is because the real power of the box-and-whisker plot is in *comparing* distributions. This will be raised again more systematically in later tutorials, but just to illustrate, here is how to compare the heights of males and females:"
     ]
    },
    {
     "cell_type": "code",
     "collapsed": false,
     "input": [
      "b = gal.boxplot(column=\"height\", by=\"sex\")"
     ],
     "language": "python",
     "metadata": {},
     "outputs": [
      {
       "metadata": {},
       "output_type": "display_data",
       "png": "[encoded data removed]",
       "text": [
        "<matplotlib.figure.Figure at 0x3c00150>"
       ]
      }
     ],
     "prompt_number": 20
    },
    {
     "cell_type": "markdown",
     "metadata": {},
     "source": [
      "### Displays of Categorical Variables\n",
      "\n",
      "For categorical variables, it makes no sense to compute descriptive statistics such as the mean, standard deviation, or variance. Instead, look at the number of cases at each level of the variable."
     ]
    },
    {
     "cell_type": "code",
     "collapsed": false,
     "input": [
      "gal.sex.value_counts()"
     ],
     "language": "python",
     "metadata": {},
     "outputs": [
      {
       "metadata": {},
       "output_type": "pyout",
       "prompt_number": 21,
       "text": [
        "M    465\n",
        "F    433\n",
        "dtype: int64"
       ]
      }
     ],
     "prompt_number": 21
    },
    {
     "cell_type": "markdown",
     "metadata": {},
     "source": [
      "Proportions can be found in a similar way (use `float()` to return a 'float' rather than an 'integer'):"
     ]
    },
    {
     "cell_type": "code",
     "collapsed": false,
     "input": [
      "gal.sex.value_counts()/float(gal.sex.count())"
     ],
     "language": "python",
     "metadata": {},
     "outputs": [
      {
       "metadata": {},
       "output_type": "pyout",
       "prompt_number": 22,
       "text": [
        "M    0.517817\n",
        "F    0.482183\n",
        "dtype: float64"
       ]
      }
     ],
     "prompt_number": 22
    },
    {
     "cell_type": "markdown",
     "metadata": {},
     "source": [
      "### Reference\n",
      "\n",
      "As with all 'Statistical Modeling: A Fresh Approach for Python' tutorials, this tutorial is based directly on material from ['Statistical Modeling: A Fresh Approach (2nd Edition)'][book] by [Daniel Kaplan][daniel-kaplan]. This tutorial is based on Chapter 3: Describing Variation.\n",
      "\n",
      "I have made an effort to keep the text and explanations consistent between the original (R-based) version and the Python tutorials, in order to keep things comparable. With that in mind, any errors, omissions, and/or differences between the two versions are mine, and any questions, comments, and/or concerns should be [directed to me][].\n",
      "\n",
      "[book]: http://www.mosaic-web.org/go/StatisticalModeling/\n",
      "[daniel-kaplan]: http://www.macalester.edu/~kaplan/\n",
      "[directed to me]: mailto:carson.farmer@gmail.com"
     ]
    }
   ],
   "metadata": {}
  }
 ]
}