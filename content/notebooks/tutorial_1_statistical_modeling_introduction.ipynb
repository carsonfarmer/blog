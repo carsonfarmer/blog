{
 "metadata": {
  "name": ""
 },
 "nbformat": 3,
 "nbformat_minor": 0,
 "worksheets": [
  {
   "cells": [
    {
     "cell_type": "markdown",
     "metadata": {
      "slideshow": {
       "slide_type": "-"
      }
     },
     "source": [
      "Introducing a series of tutorials on using Python for introductory statistical analysis based on the 'Computational Technique' sections of each chapter from ['Statistical Modeling: A Fresh Approach (2nd Edition)'][book]. The goal of this series of tutorials is to show how all of the R analysis and commands used in the book can be done just as easily using the [Python][python] programming language. This has the dual goal of introducing 'Scientific Python' to students learning statistics, as well as showcasing the recent advances in statistical computing that have been introduced to Python in recent years. Each tutorial in the series will cover the Computational Technique section of a different chapter from the book, starting with Section 1.4.3 from the introduction (which technically *isn't* a Computational Technique section, but is a useful introduction none-the-less), which is [available online here][first-chapters]. Note that many of these tutorials will require you to have read the corresponding chapter(s) from the book in order to be useful.\n",
      "\n",
      "All the tutorials assume that Python is installed and running on your computer. To use the notebooks [associated with these tutorials][notebook-link], you'll also need to have [IPython][ipython] (with notebook) installed. There are plenty of resources online with information on [IPython][ipython], [Notebooks][ipython-notebook], and [installation instructions][ipython-install]) for both. You'll also need to have the [Scientific Python][scipy] libraries installed for additional statistical functionality (we'll also introduce some [other statistical libraries][statsmodels] in later tutorials), and [matplotlib][] for plotting and visualization.\n",
      "\n",
      "[book]: http://www.mosaic-web.org/go/StatisticalModeling/\n",
      "[python]: http://python.org/\n",
      "[first-chapters]: http://www.mosaic-web.org/go/StatisticalModeling/Chapters/\n",
      "[ipython]: http://ipython.org/\n",
      "[ipython-install]: http://ipython.org/install.html\n",
      "[ipython-notebook]: http://ipython.org/notebook.html\n",
      "[scipy]: http://www.scipy.org/\n",
      "[matplotlib]: http://matplotlib.org/\n",
      "[statsmodels]: http://statsmodels.sourceforge.net/\n",
      "[notebook-link]: https://github.com/cfarmer/stat-mod-fresh-approach-python\n"
     ]
    },
    {
     "cell_type": "markdown",
     "metadata": {},
     "source": [
      "## The IPython Command Console\n",
      "\n",
      "Once you have IPython installed, you are ready to perform all sorts of statistical and other mathematical and scientific operations. However, to use the powerful range of tools, functions, commands, and statistical methods available in Python, you first need to learn a little bit about the syntax and meaning of Python commands. Once you have learned this, operations become simple to perform. Before staring this tutorial, read section 1.4 from 'Statistical Modeling: A Fresh Approach', which outlines some general concepts surrounding computational statistics (in the context of R). In particular, it provides some explanation of a 'language-based approach' to statistical computing - which is an important concept throughout the book and this series of tutorials."
     ]
    },
    {
     "cell_type": "markdown",
     "metadata": {},
     "source": [
      "## Invoking an Operation\n",
      "\n",
      "People often think of computers as *doing things*: sending email, playing music, storing files. Your job in using a computer is to tell the computer *what* to do. There are many different words used to refer to the \"what\": a procedure, a task, a function, a routine, and so on. Like in the book, I'll use the word **computation**. Admittedly, this is a bit circular, but it is easy to remember: computers perform computations.\n",
      "\n",
      "Complex computations are built up from simpler computations. This may seem obvious, but it is a powerful idea. An **algorithm** is just a description of a computation in terms of other computations that you already know how to perform. To help distinguish between the computation as a whole and the simpler parts, it is helpful to introduce a new word: an **operator** performs a computation.\n",
      "\n",
      "It's helpful to think of the computation carried out by an operator as involving four parts:\n",
      "\n",
      "1. The name of the operator\n",
      "2. The input arguments\n",
      "3. The output value\n",
      "4. Side effects"
     ]
    },
    {
     "cell_type": "markdown",
     "metadata": {},
     "source": [
      "A typical operation takes one or more **input arguments** and uses the information in these to produce an **output value**. Along the way, the computer might take some action: display a graph, store a file, make a sound, etc. These actions are called **side effects**.\n",
      "\n",
      "Because R is a programing language designed specifically for statistical analysis, many of the 'base' commands (such as `sqrt()`) are available 'out-of-the-box'. However, since Python is a more general-purpose programming language, we usually need to `import` statistical commands (think of this as adding words to a language) before we can use them. For Scientific Python, the most important library that we need is `numpy` (Numerical Python), which can be loaded like this:"
     ]
    },
    {
     "cell_type": "code",
     "collapsed": false,
     "input": [
      "import numpy as np"
     ],
     "language": "python",
     "metadata": {},
     "outputs": [],
     "prompt_number": 1
    },
    {
     "cell_type": "markdown",
     "metadata": {},
     "source": [
      "<span class=\"note left shadow\">\n",
      "It is best to ensure you are using the latest version of `numpy`, which is available [from here][numpy].\n",
      "</span>\n",
      "\n",
      "[numpy]: http://scipy.org/Download"
     ]
    },
    {
     "cell_type": "markdown",
     "metadata": {},
     "source": [
      "To tell the computer to perform a computation - call this **invoking an operation** or giving a **command** - you need to provide the name and the input arguments in a specific format. The computer then returns the output value. For example, the command `np.sqrt(25)` invokes the square root operator (named `sqrt` from the `numpy` library) on the argument `25`. The output from the computation will, of course, we `5`.\n",
      "\n",
      "The syntax of invoking an operation consists of the operator's name, followed by round parentheses. The input arguments go inside the parentheses.\n",
      "\n",
      "The software program that you use to invoke operators is called an **interpreter** (the interpreter is the program you are running when you start Python). You enter your commands as a 'dialog' between you and the interpreter (just like when converting between any two languages!). Commands can be entered as part of a script (a text file with a list of commands to perform) or directly at a 'command prompt':"
     ]
    },
    {
     "cell_type": "code",
     "collapsed": false,
     "input": [
      "np.sqrt(25)"
     ],
     "language": "python",
     "metadata": {},
     "outputs": [
      {
       "metadata": {},
       "output_type": "pyout",
       "prompt_number": 2,
       "text": [
        "5.0"
       ]
      }
     ],
     "prompt_number": 2
    },
    {
     "cell_type": "markdown",
     "metadata": {},
     "source": [
      "In the above situation, the 'prompt' is `In [ ]:`, and the 'command' is `np.sqrt(25)`. When you press 'Enter', the interpreter reads your command and performs the computation. For commands such as the one above, the interpreter will print the output value from the computation:"
     ]
    },
    {
     "cell_type": "code",
     "collapsed": false,
     "input": [
      "np.sqrt(25)"
     ],
     "language": "python",
     "metadata": {},
     "outputs": [
      {
       "metadata": {},
       "output_type": "pyout",
       "prompt_number": 3,
       "text": [
        "5.0"
       ]
      }
     ],
     "prompt_number": 3
    },
    {
     "cell_type": "markdown",
     "metadata": {},
     "source": [
      "In the above example, the 'output marker' is `Out[ ]:`, and the output value is `5.0`. The dialog continues as the interpreter prints another prompt and waits for your further command."
     ]
    },
    {
     "cell_type": "markdown",
     "metadata": {},
     "source": [
      "Often, operations involve more than one argument. The various arguments are separated by commas. For example, here is an operation named `arange` from the `numpy` library that produces a range of numbers (increasing values between 3 and 10):"
     ]
    },
    {
     "cell_type": "code",
     "collapsed": false,
     "input": [
      "np.arange(3, 10)"
     ],
     "language": "python",
     "metadata": {},
     "outputs": [
      {
       "metadata": {},
       "output_type": "pyout",
       "prompt_number": 4,
       "text": [
        "array([3, 4, 5, 6, 7, 8, 9])"
       ]
      }
     ],
     "prompt_number": 4
    },
    {
     "cell_type": "markdown",
     "metadata": {},
     "source": [
      "The first argument tells where to start the range and the second tells where to end it. The order of the arguments is important. For instance, *here* is the range produced when 10 is the first argument, 3 is the second, and the third is -1 (decreasing values between 10 and 3):"
     ]
    },
    {
     "cell_type": "code",
     "collapsed": false,
     "input": [
      "np.arange(10, 3, -1)"
     ],
     "language": "python",
     "metadata": {},
     "outputs": [
      {
       "metadata": {},
       "output_type": "pyout",
       "prompt_number": 5,
       "text": [
        "array([10,  9,  8,  7,  6,  5,  4])"
       ]
      }
     ],
     "prompt_number": 5
    },
    {
     "cell_type": "markdown",
     "metadata": {},
     "source": [
      "For some operators, particularly those that have many input arguments, some of the arguments can be referred to by name rather than position. This is particularly useful when the named argument has a sensible default value. For example, the `arange` operator from the `numpy` library can be instructed what type of output values to produce (integers, floats, etc). This is accomplished using an argument named `dtype`:"
     ]
    },
    {
     "cell_type": "code",
     "collapsed": false,
     "input": [
      "np.arange(10, 3, -1, dtype='float')"
     ],
     "language": "python",
     "metadata": {},
     "outputs": [
      {
       "metadata": {},
       "output_type": "pyout",
       "prompt_number": 6,
       "text": [
        "array([ 10.,   9.,   8.,   7.,   6.,   5.,   4.])"
       ]
      }
     ],
     "prompt_number": 6
    },
    {
     "cell_type": "markdown",
     "metadata": {},
     "source": [
      "Note that all the values in the range now have decimal places. Depending on the circumstances, all four parts of an operation need not be present. For example, the `ctime` operation from the `time` library returns the current time and date; no input arguments are required:"
     ]
    },
    {
     "cell_type": "code",
     "collapsed": false,
     "input": [
      "import time\n",
      "time.ctime()"
     ],
     "language": "python",
     "metadata": {},
     "outputs": [
      {
       "metadata": {},
       "output_type": "pyout",
       "prompt_number": 7,
       "text": [
        "'Mon Sep 23 15:58:25 2013'"
       ]
      }
     ],
     "prompt_number": 7
    },
    {
     "cell_type": "markdown",
     "metadata": {},
     "source": [
      "In the above example, we first imported the `time` library, which provides a series of commands that help us work with dates and times. Next, even though there are no arguments, the parentheses are still used when calling the `ctime` command. Think of the pair of parentheses as meaning, '*do this*'."
     ]
    },
    {
     "cell_type": "markdown",
     "metadata": {},
     "source": [
      "### Naming and Storing Values\n",
      "\n",
      "Often the value returned by an operation will be used later on. Values can be stored for later use with the **assignment operator**. This has a different syntax that reminds the user that a value is being stored. Here's an example of a simple assignment:"
     ]
    },
    {
     "cell_type": "code",
     "collapsed": false,
     "input": [
      "x = 16"
     ],
     "language": "python",
     "metadata": {},
     "outputs": [],
     "prompt_number": 8
    },
    {
     "cell_type": "markdown",
     "metadata": {},
     "source": [
      "The command has stored the value 16 under the name `x`. The syntax is always the same: an equal sign (=) with a name on the left side and a value on the right. \n",
      "Such stored values are called **objects**. Making an assignment to an object defines the object. Once an object has been defined, it can be referred to and used in later computations. Notice that an assignment operation does not return a value or display a value. Its sole purpose is to have the side effects of defining the object and thereby storing a value under the object's name.\n",
      "\n",
      "To refer to the value stored in the object, just use the object's name itself. For instance:"
     ]
    },
    {
     "cell_type": "code",
     "collapsed": false,
     "input": [
      "x"
     ],
     "language": "python",
     "metadata": {},
     "outputs": [
      {
       "metadata": {},
       "output_type": "pyout",
       "prompt_number": 9,
       "text": [
        "16"
       ]
      }
     ],
     "prompt_number": 9
    },
    {
     "cell_type": "markdown",
     "metadata": {},
     "source": [
      "Doing a computation on the value store in an object is much the same (and provides and extremely rich syntax for performing complex calculations):"
     ]
    },
    {
     "cell_type": "code",
     "collapsed": false,
     "input": [
      "np.sqrt(x)"
     ],
     "language": "python",
     "metadata": {},
     "outputs": [
      {
       "metadata": {},
       "output_type": "pyout",
       "prompt_number": 10,
       "text": [
        "4.0"
       ]
      }
     ],
     "prompt_number": 10
    },
    {
     "cell_type": "markdown",
     "metadata": {},
     "source": [
      "You can create as many objects as you like and give them names that remind you of their purpose. Some examples: `wilma`, `ages`, `temp`, `dog_houses`, `foo3`. There *are* some general rules for object names:\n",
      "\n",
      "* Use only letters and numbers and 'underscores' (_)\n",
      "* Do NOT use spaces anywhere in the name (Python won't let you)\n",
      "* A number cannot be the first character in the name\n",
      "* Capital letters are treated as distinct from lower-case letters (i.e., Python is *case-sensitive*)\n",
      "    * the objects named `wilma`, `Wilma`, and `WILMA` are all different\n",
      "* If possible, use an 'underscore' between words (i.e., `my_object`)"
     ]
    },
    {
     "cell_type": "markdown",
     "metadata": {},
     "source": [
      "For the sake of readability, keep object names short. But if you really must have an object named something like `ages_of_children_from_the _clinical_trial`, feel free (it's just more typing for you later!).\n",
      "\n",
      "Objects can store all sorts of things, for example a range of numbers:"
     ]
    },
    {
     "cell_type": "code",
     "collapsed": false,
     "input": [
      "x = np.arange(1, 7)"
     ],
     "language": "python",
     "metadata": {},
     "outputs": [],
     "prompt_number": 11
    },
    {
     "cell_type": "markdown",
     "metadata": {},
     "source": [
      "When you assign a new value to an existing object, as just done to `x` above, the former values of that object is erased from the computer memory. The former value of `x` was 16, but after the new assignment above, it is:"
     ]
    },
    {
     "cell_type": "code",
     "collapsed": false,
     "input": [
      "x"
     ],
     "language": "python",
     "metadata": {},
     "outputs": [
      {
       "metadata": {},
       "output_type": "pyout",
       "prompt_number": 12,
       "text": [
        "array([1, 2, 3, 4, 5, 6])"
       ]
      }
     ],
     "prompt_number": 12
    },
    {
     "cell_type": "markdown",
     "metadata": {},
     "source": [
      "The value of an object is changed only via the assignment operator. Using an object in a computation does not change the value. For example, suppose you invoke the square-root operator on `x`:"
     ]
    },
    {
     "cell_type": "code",
     "collapsed": false,
     "input": [
      "np.sqrt(x)"
     ],
     "language": "python",
     "metadata": {},
     "outputs": [
      {
       "metadata": {},
       "output_type": "pyout",
       "prompt_number": 13,
       "text": [
        "array([ 1.        ,  1.41421356,  1.73205081,  2.        ,  2.23606798,\n",
        "        2.44948974])"
       ]
      }
     ],
     "prompt_number": 13
    },
    {
     "cell_type": "markdown",
     "metadata": {},
     "source": [
      "The square roots have been returned as a value, but this doesn't change the value of `x`:"
     ]
    },
    {
     "cell_type": "code",
     "collapsed": false,
     "input": [
      "x"
     ],
     "language": "python",
     "metadata": {},
     "outputs": [
      {
       "metadata": {},
       "output_type": "pyout",
       "prompt_number": 14,
       "text": [
        "array([1, 2, 3, 4, 5, 6])"
       ]
      }
     ],
     "prompt_number": 14
    },
    {
     "cell_type": "markdown",
     "metadata": {},
     "source": [
      "<span class=\"note right shadow\" markdown=\"1\">\n",
      "An assignment command like <code>x=np.sqrt(x)</code> can be confusing to people who are used to algebraic notation. In algebra, the equal sign describes a relationship between the left and right sides. So, $x = \\sqrt{x}$ tells us about how the quantity $x$ and the quantity $\\sqrt{x}$ are related. Students are usually trained to 'solve' such a relationship, going through a series of algebraic steps to find values for $x$ that are consistent with the mathematical statement (for $x = \\sqrt{x}$, the solutions are $x = 0$ and $x = 1$). In contrast, the assignment command <code>x = np.sqrt(x)</code> is a way of replacing the previous values stored in <code>x</code> with new values that are the square-root of the old ones.\n",
      "</span>"
     ]
    },
    {
     "cell_type": "markdown",
     "metadata": {},
     "source": [
      "If you want to change the value of `x`, you need to use the assignment operator:"
     ]
    },
    {
     "cell_type": "code",
     "collapsed": false,
     "input": [
      "x = np.sqrt(x)"
     ],
     "language": "python",
     "metadata": {},
     "outputs": [],
     "prompt_number": 15
    },
    {
     "cell_type": "markdown",
     "metadata": {},
     "source": [
      "### Connecting Computations\n",
      "\n",
      "The brilliant thing about organizing operators in terms of unput arguments and output values is that the output of one operator can be used as an input to another. This lets complicated computations be built out of simpler ones.\n",
      "\n",
      "For example, suppose you have a list of 10000 voters in a precinct and you want to select a random sample of 20 of them for a survey. The `np.arange` operator can be used to generate a set of 10000 choices. The `np.random.choice` operator can then be used to select a subset of these values at random.\n",
      "\n",
      "One way to connect the computations is by using objects to store the intermediate outputs:"
     ]
    },
    {
     "cell_type": "code",
     "collapsed": false,
     "input": [
      "choices = np.arange(1, 10000)\n",
      "np.random.choice(choices, 20, replace=False) # sample _without_ replacement"
     ],
     "language": "python",
     "metadata": {},
     "outputs": [
      {
       "metadata": {},
       "output_type": "pyout",
       "prompt_number": 16,
       "text": [
        "array([7863, 8378, 9128, 3340, 5674, 9055, 6374, 8668, 3768, 6798, 8066,\n",
        "       6443, 5154, 5991, 1535, 3580, 8516, 4872, 8618, 7240])"
       ]
      }
     ],
     "prompt_number": 16
    },
    {
     "cell_type": "markdown",
     "metadata": {},
     "source": [
      "You can also pass the output of an operator *directly* as an argument to another operator. Here's another way to accomplish exactly the same thing as the above (note that the values will differ because we are performing a *random* sample):"
     ]
    },
    {
     "cell_type": "code",
     "collapsed": false,
     "input": [
      "np.random.choice(np.arange(1, 10000), 20, replace=False)"
     ],
     "language": "python",
     "metadata": {},
     "outputs": [
      {
       "metadata": {},
       "output_type": "pyout",
       "prompt_number": 17,
       "text": [
        "array([5732, 6833, 7705, 4459, 3131, 3515, 4177, 6312, 2820, 2705, 4580,\n",
        "       9125, 7395, 1927,  728, 4725, 1854, 6147, 4421, 2756])"
       ]
      }
     ],
     "prompt_number": 17
    },
    {
     "cell_type": "markdown",
     "metadata": {},
     "source": [
      "### Numbers and Arithmetic\n",
      "\n",
      "The `Python` language has a concise notation for arithmetic that looks very much like the traditional one:"
     ]
    },
    {
     "cell_type": "code",
     "collapsed": false,
     "input": [
      "7. + 2."
     ],
     "language": "python",
     "metadata": {},
     "outputs": [
      {
       "metadata": {},
       "output_type": "pyout",
       "prompt_number": 18,
       "text": [
        "9.0"
       ]
      }
     ],
     "prompt_number": 18
    },
    {
     "cell_type": "code",
     "collapsed": false,
     "input": [
      "3. * 4."
     ],
     "language": "python",
     "metadata": {},
     "outputs": [
      {
       "metadata": {},
       "output_type": "pyout",
       "prompt_number": 19,
       "text": [
        "12.0"
       ]
      }
     ],
     "prompt_number": 19
    },
    {
     "cell_type": "code",
     "collapsed": false,
     "input": [
      "5. / 2."
     ],
     "language": "python",
     "metadata": {},
     "outputs": [
      {
       "metadata": {},
       "output_type": "pyout",
       "prompt_number": 20,
       "text": [
        "2.5"
       ]
      }
     ],
     "prompt_number": 20
    },
    {
     "cell_type": "code",
     "collapsed": false,
     "input": [
      "3. - 8."
     ],
     "language": "python",
     "metadata": {},
     "outputs": [
      {
       "metadata": {},
       "output_type": "pyout",
       "prompt_number": 21,
       "text": [
        "-5.0"
       ]
      }
     ],
     "prompt_number": 21
    },
    {
     "cell_type": "code",
     "collapsed": false,
     "input": [
      "-3."
     ],
     "language": "python",
     "metadata": {},
     "outputs": [
      {
       "metadata": {},
       "output_type": "pyout",
       "prompt_number": 22,
       "text": [
        "-3.0"
       ]
      }
     ],
     "prompt_number": 22
    },
    {
     "cell_type": "code",
     "collapsed": false,
     "input": [
      "5.**2. # same as 5^2 (or 5 to the power of 2)"
     ],
     "language": "python",
     "metadata": {},
     "outputs": [
      {
       "metadata": {},
       "output_type": "pyout",
       "prompt_number": 23,
       "text": [
        "25.0"
       ]
      }
     ],
     "prompt_number": 23
    },
    {
     "cell_type": "markdown",
     "metadata": {},
     "source": [
      "Arithmetic operators, like any other operators, can be connected to form more complicated computations. For instance:"
     ]
    },
    {
     "cell_type": "code",
     "collapsed": false,
     "input": [
      "8. + 4. / 2."
     ],
     "language": "python",
     "metadata": {},
     "outputs": [
      {
       "metadata": {},
       "output_type": "pyout",
       "prompt_number": 24,
       "text": [
        "10.0"
       ]
      }
     ],
     "prompt_number": 24
    },
    {
     "cell_type": "markdown",
     "metadata": {},
     "source": [
      "The a human reader, the command `8+4/2` might seem ambiguous. Is it intended to be `(8+4)/2` or `8+(4/2)`? The computer uses unambiguous rules to interpret the expression, but it's a good idea for you to use parentheses so that you can make sure that what you *intend* is what the computer carries out:"
     ]
    },
    {
     "cell_type": "code",
     "collapsed": false,
     "input": [
      "(8. + 4.) / 2."
     ],
     "language": "python",
     "metadata": {},
     "outputs": [
      {
       "metadata": {},
       "output_type": "pyout",
       "prompt_number": 25,
       "text": [
        "6.0"
       ]
      }
     ],
     "prompt_number": 25
    },
    {
     "cell_type": "markdown",
     "metadata": {},
     "source": [
      "Traditional mathematical notations uses superscripts and radicals to indicate exponentials and roots, e.g. $3^2$ or $\\sqrt{3}$ or $\\sqrt[3]{8}$. This special typography doesn't work well with an ordinary keyboard, so `Python` and most other computer languages uses a different notation:"
     ]
    },
    {
     "cell_type": "code",
     "collapsed": false,
     "input": [
      "3.**2."
     ],
     "language": "python",
     "metadata": {},
     "outputs": [
      {
       "metadata": {},
       "output_type": "pyout",
       "prompt_number": 26,
       "text": [
        "9.0"
       ]
      }
     ],
     "prompt_number": 26
    },
    {
     "cell_type": "code",
     "collapsed": false,
     "input": [
      "np.sqrt(3.) # or 3.**0.5"
     ],
     "language": "python",
     "metadata": {},
     "outputs": [
      {
       "metadata": {},
       "output_type": "pyout",
       "prompt_number": 27,
       "text": [
        "1.7320508075688772"
       ]
      }
     ],
     "prompt_number": 27
    },
    {
     "cell_type": "code",
     "collapsed": false,
     "input": [
      "8.**(1./3.)"
     ],
     "language": "python",
     "metadata": {},
     "outputs": [
      {
       "metadata": {},
       "output_type": "pyout",
       "prompt_number": 28,
       "text": [
        "2.0"
       ]
      }
     ],
     "prompt_number": 28
    },
    {
     "cell_type": "markdown",
     "metadata": {},
     "source": [
      "There is a large set of mathematical functions: exponentials, logs, trigonometric and inverse trigonometric functions, etc. Some examples:\n",
      "\n",
      "<table border=\"0\">\n",
      "<tr>\n",
      "<th>Traditional</th>\n",
      "<th>Python</th>\n",
      "</tr>\n",
      "<tr>\n",
      "<td>$e^2$</td>\n",
      "<td><code>np.exp(2)</code></td>\n",
      "</tr>\n",
      "<tr>\n",
      "    <td>$\\log_{e}(100)$</td>\n",
      "    <td><code>np.log(100)</code></td>\n",
      "</tr>\n",
      "<tr>\n",
      "    <td>$\\log_{10}(100)$</td>\n",
      "    <td><code>np.log10(100)</code></td>\n",
      "</tr>\n",
      "<tr>\n",
      "    <td>$\\log_{2}(100)$</td>\n",
      "    <td><code>np.log2(100)</code></td>\n",
      "</tr>\n",
      "<tr>\n",
      "    <td>$\\cos(\\frac{\\pi}{2})$</td>\n",
      "    <td><code>np.cos(np.pi/2)</code></td>\n",
      "</tr>\n",
      "<tr>\n",
      "    <td>$\\sin(\\frac{\\pi}{2})$</td>\n",
      "    <td><code>np.sin(np.pi/2)</code></td>\n",
      "</tr>\n",
      "<tr>\n",
      "    <td>$\\tan(\\frac{\\pi}{2})$</td>\n",
      "    <td><code>np.tan(np.pi/2)</code></td>\n",
      "</tr>\n",
      "<tr>\n",
      "    <td>$\\cos^{-1}(-1)$</td>\n",
      "    <td><code>np.acos(-1)</code></td>\n",
      "</tr>\n",
      "</table>\n",
      "\n",
      "Numbers can be written in **scientific notation**. For example, the 'universal gravitational constant' that describes the gravitational attraction between masses is $6.67428 \\times 10^{11}$ (with units meters-cubed per kilogram per second squared). In the computer notation, this would be written as `6.67428e-11`. The Avogadro constant, which gives the number of atoms in a mole, is $6.02214179 \\times 10^{23}$ per mole, or `6.02214179e+23`.\n",
      "\n",
      "The computer language does not directly support the recording of units. This is unfortunate, since in the real world numbers often have units and the units matter. For example, in 1999 the Mars Climate Orbiter crashed into Mars because the design engineers specified the engine's thrust in units of pounds, while the guidance engineers thought the units were newtons.\n",
      "\n",
      "Computer arithmetic is accurate and reliable, but it often involves very slight rounding of numbers. Ordinarily, this is not noticeable. However, it can become apparent in some calculations that produce results that are (near) zero. For example, mathematically, $sin(\\pi) = 0$, however, the computer does not duplicate the mathematical relationship exactly:"
     ]
    },
    {
     "cell_type": "code",
     "collapsed": false,
     "input": [
      "np.sin(np.pi)"
     ],
     "language": "python",
     "metadata": {},
     "outputs": [
      {
       "metadata": {},
       "output_type": "pyout",
       "prompt_number": 29,
       "text": [
        "1.2246467991473532e-16"
       ]
      }
     ],
     "prompt_number": 29
    },
    {
     "cell_type": "markdown",
     "metadata": {},
     "source": [
      "Whether a number like this is properly interpreted as 'close to zero' depends on the context and, for quantities that have units, on the units themselves. For instance, the unit 'parsec' is used in astronomy in reporting distances between stars. The closest start to the Sun is Proxima, at a distance of 1.3 parsecs. A distance of $1.22 \\times 10^{-16}$ parsecs is tiny in astronomy but translates to about 2.5 meters - not so small on the human scale. In statistics, many calculations relate to probabilities which are always in the range 0 to 1. On this scale, `1.22e-16` is very close to zero.\n",
      "\n",
      "There are several 'special' numbers in the `Python` world; two of which are `inf`, which stands for $\\infty$ (infinity), and `nan`, which stands for 'not a number' (nan results when a numerical operation isn't define), for instance:"
     ]
    },
    {
     "cell_type": "markdown",
     "metadata": {},
     "source": [
      "<span class=\"note right shadow\">\n",
      "Mathematically oriented readers will wonder why <code>Python</code> should have any trouble with a computation like $\\sqrt{-9}$; the result is the imaginary number $3\\jmath$ (imaginary numbers may be represented by a $\\jmath$ or a $\\imath$, depending on the field). <code>Python</code> works with complex numbers, but you have to explicitly tell the system that this is what you want to do. To calculate $\\sqrt{-9}$ for example, simply use <code>np.sqrt(-9+0j)</code>.\n",
      "</span>"
     ]
    },
    {
     "cell_type": "code",
     "collapsed": false,
     "input": [
      "np.float64(1.) / 0."
     ],
     "language": "python",
     "metadata": {},
     "outputs": [
      {
       "output_type": "stream",
       "stream": "stderr",
       "text": [
        "-c:1: RuntimeWarning: divide by zero encountered in double_scalars\n"
       ]
      },
      {
       "metadata": {},
       "output_type": "pyout",
       "prompt_number": 30,
       "text": [
        "inf"
       ]
      }
     ],
     "prompt_number": 30
    },
    {
     "cell_type": "code",
     "collapsed": false,
     "input": [
      "np.float64(0.) / 0."
     ],
     "language": "python",
     "metadata": {},
     "outputs": [
      {
       "output_type": "stream",
       "stream": "stderr",
       "text": [
        "-c:1: RuntimeWarning: invalid value encountered in double_scalars\n"
       ]
      },
      {
       "metadata": {},
       "output_type": "pyout",
       "prompt_number": 31,
       "text": [
        "nan"
       ]
      }
     ],
     "prompt_number": 31
    },
    {
     "cell_type": "markdown",
     "metadata": {},
     "source": [
      "### Types of Objects\n",
      "\n",
      "Most of the examples used so far have dealt with numbers. But computers work with other kinds of information as well: text, photographs, sounds, sets of data, and so on. The word **type** is used to refer to the *kind* of information. Modern computer languages support a great variety of types. It's important to know about the types of data because operators expect their input arguments to be of specific types. When you use the wrong type of input, the computer might not be able to process your command."
     ]
    },
    {
     "cell_type": "markdown",
     "metadata": {},
     "source": [
      "<span class=\"note left shadow\">\n",
      "In Python, data frames are not 'built in' as part of the basic language, but the excellent ['pandas'][pandas] library provides data frames and a whole slew of other functionality to researchers doing data analysis with Python. We will be learning more about 'pandas' in future tutorials.\n",
      "</span>\n",
      "\n",
      "[pandas]: http://pandas.pydata.org/"
     ]
    },
    {
     "cell_type": "markdown",
     "metadata": {},
     "source": [
      "For the purposes of starting computational statistics with Python, it's important to distinguish among three basic types:\n",
      "\n",
      "* **numeric** positive and negative numbers, decimal and fractional numbers (`floats`), and whole numbers (`integers`) - numbers of the sort encountered so far\n",
      "* **data frames** collections of data (more or less) in the form of a spreadsheet table - the 'Computational Technique' section from chapter 2 will introduce data frames and the operators and libraries for working with data frames\n",
      "* **strings** textual data - you indicate string data to the computer by enclosing the text in quotation marks (e.g., `name = \"python\"`)"
     ]
    },
    {
     "cell_type": "markdown",
     "metadata": {},
     "source": [
      "#### A Note on Strings\n",
      "\n",
      "There is something a bit subtle going on in the previous command involving the string `\"python\"`, so look at it carefully. The purpose of the command is to create a new object, called `name`, which stores a little bit of text data. Notice that the name of the object is not put in quotes, but the text characters are.\n",
      "\n",
      "Whenever you refer to an object name, make sure that you don't use quotes. For example, in the following, we are first assigning the string `\"python\"` to the `name` object, and then returning (and printing automatically) the `name` object."
     ]
    },
    {
     "cell_type": "code",
     "collapsed": false,
     "input": [
      "name = \"python\"\n",
      "name"
     ],
     "language": "python",
     "metadata": {},
     "outputs": [
      {
       "metadata": {},
       "output_type": "pyout",
       "prompt_number": 32,
       "text": [
        "'python'"
       ]
      }
     ],
     "prompt_number": 32
    },
    {
     "cell_type": "markdown",
     "metadata": {},
     "source": [
      "If you make a command with the object name in quotes, it won't be treated as referring to an object. Instead, it will merely mean the text itself:"
     ]
    },
    {
     "cell_type": "code",
     "collapsed": false,
     "input": [
      "\"name\""
     ],
     "language": "python",
     "metadata": {},
     "outputs": [
      {
       "metadata": {},
       "output_type": "pyout",
       "prompt_number": 33,
       "text": [
        "'name'"
       ]
      }
     ],
     "prompt_number": 33
    },
    {
     "cell_type": "markdown",
     "metadata": {},
     "source": [
      "Similarly, if you omit the quotation marks from around the text, the computer will treat it as if it were an object name and will look for the object of that name. For instance, the following command directs the computer to look up the value contained in an object named `python` and insert that value into the object `name`:"
     ]
    },
    {
     "cell_type": "code",
     "collapsed": false,
     "input": [
      "name = python"
     ],
     "language": "python",
     "metadata": {},
     "outputs": [
      {
       "ename": "NameError",
       "evalue": "name 'python' is not defined",
       "output_type": "pyerr",
       "traceback": [
        "\u001b[1;31m---------------------------------------------------------------------------\u001b[0m\n\u001b[1;31mNameError\u001b[0m                                 Traceback (most recent call last)",
        "\u001b[1;32m<ipython-input-34-43a69bc65ba8>\u001b[0m in \u001b[0;36m<module>\u001b[1;34m()\u001b[0m\n\u001b[1;32m----> 1\u001b[1;33m \u001b[0mname\u001b[0m \u001b[1;33m=\u001b[0m \u001b[0mpython\u001b[0m\u001b[1;33m\u001b[0m\u001b[0m\n\u001b[0m",
        "\u001b[1;31mNameError\u001b[0m: name 'python' is not defined"
       ]
      }
     ],
     "prompt_number": 34
    },
    {
     "cell_type": "markdown",
     "metadata": {},
     "source": [
      "As it happens, there was no object named `python` because it had not been defined by any previous assignment command. So, the computer generated an error. For the most part, you will not need to use vary many operators on text data when doing statistical analyses; you just need to remember to include text, such as file names, in quotation marks, `\"like this\"`."
     ]
    },
    {
     "cell_type": "markdown",
     "metadata": {},
     "source": [
      "### References\n",
      "\n",
      "As with all 'Statistical Modeling: A Fresh Approach for Python' tutorials, this tutorial is based directly on material from ['Statistical Modeling: A Fresh Approach (2nd Edition)'][book] by [Daniel Kaplan][daniel-kaplan].\n",
      "\n",
      "Another useful source of information for statistics in Python is this [introduction to statistics][intro-to-stats] web-book by Thomas Haslwanter which is licensed under a Creative Commons Attribution-NonCommercial 3.0 Unported License.\n",
      "\n",
      "I have made an effort to keep the text and explanations consistent between the original (R-based) version and the Python tutorials, in order to keep things comparable. With that in mind, any errors, omissions, and/or differences between the two versions are mine, and any questions, comments, and/or concerns should be [directed to me][].\n",
      "\n",
      "[book]: http://www.mosaic-web.org/go/StatisticalModeling/\n",
      "[daniel-kaplan]: http://www.macalester.edu/~kaplan/\n",
      "[intro-to-stats]: http://work.thaslwanter.at/Stats/html/\n",
      "[directed to me]: mailto:carson.farmer@hunter.cuny.edu"
     ]
    }
   ],
   "metadata": {}
  }
 ]
}