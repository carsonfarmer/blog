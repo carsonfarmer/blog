{
 "metadata": {
  "name": ""
 },
 "nbformat": 3,
 "nbformat_minor": 0,
 "worksheets": [
  {
   "cells": [
    {
     "cell_type": "markdown",
     "metadata": {},
     "source": [
      "Data used in statistical modeling are usually organized into tables, often created using spreadsheet software. Most people presume that the same software used to create a table of data should be used to display and analyze it. This is part of the reason for the popularity of spreadsheet programs such as 'Excel' and 'Google Spreadsheets'.\n",
      "\n",
      "For serious statistical work, it's helpful to take another approach that strictly separates the processes of data collection and of data analysis: use one program to create data \ufb01les and another program to analyze the data stored in those \ufb01les. By doing this, one guarantees that the original data are not modi\ufb01ed accidentally in the process of analyzing them. This also makes it possible to perform many di\ufb00erent analyses of the data; modelers often create and compare many di\ufb00erent models of the same data."
     ]
    },
    {
     "cell_type": "markdown",
     "metadata": {},
     "source": [
      "## Reading Tabular Data into Python\n",
      "\n",
      "Data is central to statistics, and the tabular arrangement of data is very common. Accordingly, Python provides a large number of ways to read in tabular data. These vary depending on how the data are stored, where they are located, etc. To help keep things as simple as possible, the 'pandas' Python library iprovides an operator, `read_csv()` that allows you to access data \ufb01les in tabular format on your computer as well as data stored in repositories such as the one associated with the 'Statistical Modeling: A Fresh Approach' book, or one that a course instructor might set up for his or her students.\n",
      "\n",
      "The 'pandas' library is [available here][pandas], and you can follow these [installation instructions][install] to get it working on your computer (installation via `pip` is the easiest method). Once you have 'pandas' installed, you need to `import pandas` in order to to use `read_csv()`, as well as a variety of other 'pandas' operators that you will encounter later (it is also usually a good idea to `import numpy as np` at the same time that we `import pandas as pd`).\n",
      "\n",
      "[pandas]: http://pandas.pydata.org/\n",
      "[install]: http://pandas.pydata.org/pandas-docs/stable/install.html"
     ]
    },
    {
     "cell_type": "markdown",
     "metadata": {},
     "source": [
      "<span class=\"note left shadow\">\n",
      "    An alternative to writing `pds.xxx` when calling each 'pandas' operator is to import all available operators from 'pandas' at once: `from pandas import *`. This makes things a bit easier in terms of typing, but can sometimes lead to confusion when operators from different libraries have the same name.\n",
      "</span>"
     ]
    },
    {
     "cell_type": "code",
     "collapsed": false,
     "input": [
      "import pandas as pd\n",
      "import numpy as np"
     ],
     "language": "python",
     "metadata": {},
     "outputs": [],
     "prompt_number": 1
    },
    {
     "cell_type": "markdown",
     "metadata": {},
     "source": [
      "You need do this only once in each session of Python, and on systems such as IPython, the library will sometimes be reloaded automatically (if you get an error message, it\u2019s likely that the 'pandas' library has not been installed on your system. Follow the installation instructions provided at the link above.)\n",
      "\n",
      "Reading in a data table that\u2019s been connected with `read_csv()` is simply a matter of knowing the name (and location) of the data set. For instance, one data table used in examples in the 'Statistical Modeling: A Fresh Approach' book is `\"swim100m.csv\"`. To read in this data table and create an object in Python that contains the data, use a command like this:\n",
      "\n",
      "<span class=\"dataset shadow\"><i class=\"icon-flag\" style=\"font-size: 1.5em;\"></i> [`swim100m.csv`][link]</span>\n",
      "\n",
      "[link]: http://www.mosaic-web.org/go/datasets/swim100m.csv"
     ]
    },
    {
     "cell_type": "code",
     "collapsed": false,
     "input": [
      "swim = pd.read_csv(\"http://www.mosaic-web.org/go/datasets/swim100m.csv\")"
     ],
     "language": "python",
     "metadata": {},
     "outputs": [],
     "prompt_number": 2
    },
    {
     "cell_type": "markdown",
     "metadata": {},
     "source": [
      "The csv part of the name in `\"swim100m.csv\"` indicates that the \ufb01le has been stored in a particular data format, comma-separated values that is handled by spreadsheet software as well as many other kinds of software. The part of this command that requires creativity is choosing a name for the Python object that will hold the data. In the above command it is called `swim`, but you might prefer another name (e.g., `s` or `sdata` or even `ralph`). Of course, it's sensible to choose names that are short, easy to type and remember, and remind you what the contents of the object are about.\n",
      "\n",
      "To help you identify data tables that can be accessed through `read_csv()`, examples from these tutorials will be marked with a flag <i class=\"icon-flag\"></i> containing the name of the data file. The files themselves are mostly available automatically through the web site for the 'Statistical Modeling: A Fresh Approach' book."
     ]
    },
    {
     "cell_type": "markdown",
     "metadata": {},
     "source": [
      "### Data Frames\n",
      "\n",
      "The type of Python object created by `read_csv()` is called a data frame and is essentially a tabular layout. To illustrate, here are the \ufb01rst several cases of the `swim` data frame created by the previous use of `read_csv()`:\n"
     ]
    },
    {
     "cell_type": "code",
     "collapsed": false,
     "input": [
      "swim.head()"
     ],
     "language": "python",
     "metadata": {},
     "outputs": [
      {
       "html": [
        "<div style=\"max-height:1000px;max-width:1500px;overflow:auto;\">\n",
        "<table border=\"1\" class=\"dataframe\">\n",
        "  <thead>\n",
        "    <tr style=\"text-align: right;\">\n",
        "      <th></th>\n",
        "      <th>year</th>\n",
        "      <th>time</th>\n",
        "      <th>sex</th>\n",
        "    </tr>\n",
        "  </thead>\n",
        "  <tbody>\n",
        "    <tr>\n",
        "      <th>0</th>\n",
        "      <td> 1905</td>\n",
        "      <td> 65.8</td>\n",
        "      <td> M</td>\n",
        "    </tr>\n",
        "    <tr>\n",
        "      <th>1</th>\n",
        "      <td> 1908</td>\n",
        "      <td> 65.6</td>\n",
        "      <td> M</td>\n",
        "    </tr>\n",
        "    <tr>\n",
        "      <th>2</th>\n",
        "      <td> 1910</td>\n",
        "      <td> 62.8</td>\n",
        "      <td> M</td>\n",
        "    </tr>\n",
        "    <tr>\n",
        "      <th>3</th>\n",
        "      <td> 1912</td>\n",
        "      <td> 61.6</td>\n",
        "      <td> M</td>\n",
        "    </tr>\n",
        "    <tr>\n",
        "      <th>4</th>\n",
        "      <td> 1918</td>\n",
        "      <td> 61.4</td>\n",
        "      <td> M</td>\n",
        "    </tr>\n",
        "  </tbody>\n",
        "</table>\n",
        "</div>"
       ],
       "metadata": {},
       "output_type": "pyout",
       "prompt_number": 3,
       "text": [
        "   year  time sex\n",
        "0  1905  65.8   M\n",
        "1  1908  65.6   M\n",
        "2  1910  62.8   M\n",
        "3  1912  61.6   M\n",
        "4  1918  61.4   M"
       ]
      }
     ],
     "prompt_number": 3
    },
    {
     "cell_type": "markdown",
     "metadata": {},
     "source": [
      "Note that the `head()` function, one of several functions built-into 'pandas' data frames, is a function of the Python object (data frame) itself; not from the main 'pandas' library.\n",
      "\n",
      "Data frames, like tabular data generally, involve variables and cases. In 'pandas' data frames, each of the variables is given a name. You can refer to the variable by name in a couple of di\ufb00erent ways. To see the variable names in a data frame, something you might want to do to remind yourself of how names a spelled and capitalized, use the `columns` attribute of the data frame object:"
     ]
    },
    {
     "cell_type": "code",
     "collapsed": false,
     "input": [
      "swim.columns"
     ],
     "language": "python",
     "metadata": {},
     "outputs": [
      {
       "metadata": {},
       "output_type": "pyout",
       "prompt_number": 4,
       "text": [
        "Index([u'year', u'time', u'sex'], dtype=object)"
       ]
      }
     ],
     "prompt_number": 4
    },
    {
     "cell_type": "markdown",
     "metadata": {},
     "source": [
      "Note that we have **not** used brackets `()` in the above command. This is because `columns` is not a function; it is an *attribute* of the data frame. Attributes add 'extra' information (or metadata) to objects in the form of additional Python objects. In this case, the attributes describe the names (and data types) of the columns. Another way to get quick information about the variables in a data frame is with `describe()`:"
     ]
    },
    {
     "cell_type": "code",
     "collapsed": false,
     "input": [
      "swim.describe()"
     ],
     "language": "python",
     "metadata": {},
     "outputs": [
      {
       "html": [
        "<div style=\"max-height:1000px;max-width:1500px;overflow:auto;\">\n",
        "<table border=\"1\" class=\"dataframe\">\n",
        "  <thead>\n",
        "    <tr style=\"text-align: right;\">\n",
        "      <th></th>\n",
        "      <th>year</th>\n",
        "      <th>time</th>\n",
        "    </tr>\n",
        "  </thead>\n",
        "  <tbody>\n",
        "    <tr>\n",
        "      <th>count</th>\n",
        "      <td>   62.000000</td>\n",
        "      <td> 62.000000</td>\n",
        "    </tr>\n",
        "    <tr>\n",
        "      <th>mean</th>\n",
        "      <td> 1952.145161</td>\n",
        "      <td> 59.924194</td>\n",
        "    </tr>\n",
        "    <tr>\n",
        "      <th>std</th>\n",
        "      <td>   29.472881</td>\n",
        "      <td>  9.916588</td>\n",
        "    </tr>\n",
        "    <tr>\n",
        "      <th>min</th>\n",
        "      <td> 1905.000000</td>\n",
        "      <td> 47.840000</td>\n",
        "    </tr>\n",
        "    <tr>\n",
        "      <th>25%</th>\n",
        "      <td> 1924.500000</td>\n",
        "      <td> 53.642500</td>\n",
        "    </tr>\n",
        "    <tr>\n",
        "      <th>50%</th>\n",
        "      <td> 1956.500000</td>\n",
        "      <td> 56.880000</td>\n",
        "    </tr>\n",
        "    <tr>\n",
        "      <th>75%</th>\n",
        "      <td> 1975.750000</td>\n",
        "      <td> 65.200000</td>\n",
        "    </tr>\n",
        "    <tr>\n",
        "      <th>max</th>\n",
        "      <td> 2004.000000</td>\n",
        "      <td> 95.000000</td>\n",
        "    </tr>\n",
        "  </tbody>\n",
        "</table>\n",
        "</div>"
       ],
       "metadata": {},
       "output_type": "pyout",
       "prompt_number": 5,
       "text": [
        "              year       time\n",
        "count    62.000000  62.000000\n",
        "mean   1952.145161  59.924194\n",
        "std      29.472881   9.916588\n",
        "min    1905.000000  47.840000\n",
        "25%    1924.500000  53.642500\n",
        "50%    1956.500000  56.880000\n",
        "75%    1975.750000  65.200000\n",
        "max    2004.000000  95.000000"
       ]
      }
     ],
     "prompt_number": 5
    },
    {
     "cell_type": "markdown",
     "metadata": {},
     "source": [
      "This provides a numerical summary of each of the variables contained in the data frame. To keep things simple, the output from `describe()` is itself a data frame.\n",
      "\n",
      "There are lots of different functions and attributes available for data frames (and any other Python objects). For instance, to see how many cases and variables there are in a data frame, you can use the `shape` attribute:"
     ]
    },
    {
     "cell_type": "code",
     "collapsed": false,
     "input": [
      "swim.shape"
     ],
     "language": "python",
     "metadata": {},
     "outputs": [
      {
       "metadata": {},
       "output_type": "pyout",
       "prompt_number": 6,
       "text": [
        "(62, 3)"
       ]
      }
     ],
     "prompt_number": 6
    },
    {
     "cell_type": "markdown",
     "metadata": {},
     "source": [
      "### Variables in Data Frames\n",
      "\n",
      "Perhaps the most common operation on a data frame is to refer to the values in a single variable. The two ways you will most commonly use involve referring to a variable by string-quoted name (`swim[\"year\"]`) and as an attribute of a data frame without quotes (`swim.year`)."
     ]
    },
    {
     "cell_type": "markdown",
     "metadata": {},
     "source": [
      "<span class=\"note right shadow\">\n",
      "Each column or variable in a 'pandas' data frame is called a 'series', and each series can contain one of many different data types. For more information on series', data frames, and other objects in 'pandas', [have a look here][intro].\n",
      "</span>\n",
      "\n",
      "[intro]: http://pandas.pydata.org/pandas-docs/dev/dsintro.html"
     ]
    },
    {
     "cell_type": "markdown",
     "metadata": {},
     "source": [
      "Most of the statistical modeling functions you will encounter in these tutorials are designed to work with data frames and allow you to refer directly to variables within a data frame. For instance:"
     ]
    },
    {
     "cell_type": "code",
     "collapsed": false,
     "input": [
      "swim.year.mean()"
     ],
     "language": "python",
     "metadata": {},
     "outputs": [
      {
       "metadata": {},
       "output_type": "pyout",
       "prompt_number": 7,
       "text": [
        "1952.1451612903227"
       ]
      }
     ],
     "prompt_number": 7
    },
    {
     "cell_type": "code",
     "collapsed": false,
     "input": [
      "swim[\"year\"].min()"
     ],
     "language": "python",
     "metadata": {},
     "outputs": [
      {
       "metadata": {},
       "output_type": "pyout",
       "prompt_number": 8,
       "text": [
        "1905"
       ]
      }
     ],
     "prompt_number": 8
    },
    {
     "cell_type": "markdown",
     "metadata": {},
     "source": [
      "It is also possible to combine 'numpy' operators with 'pandas' variables:"
     ]
    },
    {
     "cell_type": "code",
     "collapsed": false,
     "input": [
      "np.min(swim[\"year\"])"
     ],
     "language": "python",
     "metadata": {},
     "outputs": [
      {
       "metadata": {},
       "output_type": "pyout",
       "prompt_number": 9,
       "text": [
        "1905"
       ]
      }
     ],
     "prompt_number": 9
    },
    {
     "cell_type": "code",
     "collapsed": false,
     "input": [
      "np.min(swim.year)"
     ],
     "language": "python",
     "metadata": {},
     "outputs": [
      {
       "metadata": {},
       "output_type": "pyout",
       "prompt_number": 10,
       "text": [
        "1905"
       ]
      }
     ],
     "prompt_number": 10
    },
    {
     "cell_type": "markdown",
     "metadata": {},
     "source": [
      "The `swim` portion of the above commands tells Python which data frame we want to operate on. Leaving o\ufb00 that argument leads to an error:"
     ]
    },
    {
     "cell_type": "code",
     "collapsed": false,
     "input": [
      "year.min()"
     ],
     "language": "python",
     "metadata": {},
     "outputs": [
      {
       "ename": "NameError",
       "evalue": "name 'year' is not defined",
       "output_type": "pyerr",
       "traceback": [
        "\u001b[1;31m---------------------------------------------------------------------------\u001b[0m\n\u001b[1;31mNameError\u001b[0m                                 Traceback (most recent call last)",
        "\u001b[1;32m<ipython-input-11-2ef03df1cde8>\u001b[0m in \u001b[0;36m<module>\u001b[1;34m()\u001b[0m\n\u001b[1;32m----> 1\u001b[1;33m \u001b[0myear\u001b[0m\u001b[1;33m.\u001b[0m\u001b[0mmin\u001b[0m\u001b[1;33m(\u001b[0m\u001b[1;33m)\u001b[0m\u001b[1;33m\u001b[0m\u001b[0m\n\u001b[0m",
        "\u001b[1;31mNameError\u001b[0m: name 'year' is not defined"
       ]
      }
     ],
     "prompt_number": 11
    },
    {
     "cell_type": "markdown",
     "metadata": {},
     "source": [
      "Of course, you know that the variable year is de\ufb01ned *within* the data frame `swim`, but you have to tell Python which data frame you want to operate on explicitly, otherwise it doesn\u2019t know where to find the variable(s). Think of this notation as referring to the variable by both its family name (the data frame\u2019s name,`\"swim\"`) and its given name (`\"year\"`), something like `einstein.albert`.\n",
      "\n",
      "The advantage of referring to variables by name becomes evident when you construct statements that involve more than one variable within a data frame. For instance, here's a calculation of the mean year, separately for (grouping by) the different sexes:"
     ]
    },
    {
     "cell_type": "code",
     "collapsed": false,
     "input": [
      "swim.groupby('sex')['year'].mean()"
     ],
     "language": "python",
     "metadata": {},
     "outputs": [
      {
       "metadata": {},
       "output_type": "pyout",
       "prompt_number": 12,
       "text": [
        "sex\n",
        "F      1950.677419\n",
        "M      1953.612903\n",
        "Name: year, dtype: float64"
       ]
      }
     ],
     "prompt_number": 12
    },
    {
     "cell_type": "markdown",
     "metadata": {},
     "source": [
      "You will see much more of the `groupby` function, starting in Tutorial 4 (Group-wise Models). It's the 'pandas' way of grouping or aggregating data frames. In subsequent chapters, we will build on this notion to develop more complex ways of \"grouping\" and \"modeling\" variables \"by\" other variables.\n",
      "\n",
      "Both the `mean()` and `min()` functions have been arranged by the 'pandas' library to look in the data frame when interpreting variables, but not all Python functions are designed this way. For instance:"
     ]
    },
    {
     "cell_type": "code",
     "collapsed": false,
     "input": [
      "swim.year.sqrt()"
     ],
     "language": "python",
     "metadata": {},
     "outputs": [
      {
       "ename": "AttributeError",
       "evalue": "'Series' object has no attribute 'sqrt'",
       "output_type": "pyerr",
       "traceback": [
        "\u001b[1;31m---------------------------------------------------------------------------\u001b[0m\n\u001b[1;31mAttributeError\u001b[0m                            Traceback (most recent call last)",
        "\u001b[1;32m<ipython-input-13-e6382fdf6716>\u001b[0m in \u001b[0;36m<module>\u001b[1;34m()\u001b[0m\n\u001b[1;32m----> 1\u001b[1;33m \u001b[0mswim\u001b[0m\u001b[1;33m.\u001b[0m\u001b[0myear\u001b[0m\u001b[1;33m.\u001b[0m\u001b[0msqrt\u001b[0m\u001b[1;33m(\u001b[0m\u001b[1;33m)\u001b[0m\u001b[1;33m\u001b[0m\u001b[0m\n\u001b[0m",
        "\u001b[1;31mAttributeError\u001b[0m: 'Series' object has no attribute 'sqrt'"
       ]
      }
     ],
     "prompt_number": 13
    },
    {
     "cell_type": "markdown",
     "metadata": {},
     "source": [
      "When you encounter a function that isn't supported by data frames, you can use 'numpy' functions and the special `apply` function built-into data frames (note that the `func` argument is optional):"
     ]
    },
    {
     "cell_type": "code",
     "collapsed": false,
     "input": [
      "swim.year.apply(func=np.sqrt).head() # There are 62 cases in total"
     ],
     "language": "python",
     "metadata": {},
     "outputs": [
      {
       "metadata": {},
       "output_type": "pyout",
       "prompt_number": 14,
       "text": [
        "0    43.646306\n",
        "1    43.680659\n",
        "2    43.703547\n",
        "3    43.726422\n",
        "4    43.794977\n",
        "Name: year, dtype: float64"
       ]
      }
     ],
     "prompt_number": 14
    },
    {
     "cell_type": "markdown",
     "metadata": {},
     "source": [
      "Alternatively, since columns are basically just arrays, we can use built-in numpy functions directly on the columns:"
     ]
    },
    {
     "cell_type": "code",
     "collapsed": false,
     "input": [
      "np.sqrt(swim.year).head() # Again, there are 62 cases in total"
     ],
     "language": "python",
     "metadata": {},
     "outputs": [
      {
       "metadata": {},
       "output_type": "pyout",
       "prompt_number": 15,
       "text": [
        "0    43.646306\n",
        "1    43.680659\n",
        "2    43.703547\n",
        "3    43.726422\n",
        "4    43.794977\n",
        "Name: year, dtype: float64"
       ]
      }
     ],
     "prompt_number": 15
    },
    {
     "cell_type": "markdown",
     "metadata": {},
     "source": [
      "### Adding a New Variable\n",
      "\n",
      "Sometimes you will compute a new quantity from the existing variables and want to treat this as a new variable. Adding a new variable to a data frame can be done similarly to *accessing* a variable. For instance, here is how to create a new variable in `swim` that holds the `time` converted from seconds to units of minutes:"
     ]
    },
    {
     "cell_type": "code",
     "collapsed": false,
     "input": [
      "swim['minutes'] = swim.time/60. # or swim['time']/60."
     ],
     "language": "python",
     "metadata": {},
     "outputs": [],
     "prompt_number": 16
    },
    {
     "cell_type": "markdown",
     "metadata": {},
     "source": [
      "By default, columns get inserted at the end. The `insert` function is available to insert at a particular location in the columns. "
     ]
    },
    {
     "cell_type": "code",
     "collapsed": false,
     "input": [
      "swim.insert(1, 'mins', swim.time/60.)"
     ],
     "language": "python",
     "metadata": {},
     "outputs": [],
     "prompt_number": 17
    },
    {
     "cell_type": "markdown",
     "metadata": {},
     "source": [
      "You could also, if you want, rede\ufb01ne an existing variable, for instance:"
     ]
    },
    {
     "cell_type": "code",
     "collapsed": false,
     "input": [
      "swim['time'] = swim.time/60."
     ],
     "language": "python",
     "metadata": {},
     "outputs": [],
     "prompt_number": 18
    },
    {
     "cell_type": "markdown",
     "metadata": {},
     "source": [
      "As always, we can take a quick look at the results of our operations by using the `head()` fuction of our data frame:"
     ]
    },
    {
     "cell_type": "code",
     "collapsed": false,
     "input": [
      "swim.head()"
     ],
     "language": "python",
     "metadata": {},
     "outputs": [
      {
       "html": [
        "<div style=\"max-height:1000px;max-width:1500px;overflow:auto;\">\n",
        "<table border=\"1\" class=\"dataframe\">\n",
        "  <thead>\n",
        "    <tr style=\"text-align: right;\">\n",
        "      <th></th>\n",
        "      <th>year</th>\n",
        "      <th>mins</th>\n",
        "      <th>time</th>\n",
        "      <th>sex</th>\n",
        "      <th>minutes</th>\n",
        "    </tr>\n",
        "  </thead>\n",
        "  <tbody>\n",
        "    <tr>\n",
        "      <th>0</th>\n",
        "      <td> 1905</td>\n",
        "      <td> 1.096667</td>\n",
        "      <td> 1.096667</td>\n",
        "      <td> M</td>\n",
        "      <td> 1.096667</td>\n",
        "    </tr>\n",
        "    <tr>\n",
        "      <th>1</th>\n",
        "      <td> 1908</td>\n",
        "      <td> 1.093333</td>\n",
        "      <td> 1.093333</td>\n",
        "      <td> M</td>\n",
        "      <td> 1.093333</td>\n",
        "    </tr>\n",
        "    <tr>\n",
        "      <th>2</th>\n",
        "      <td> 1910</td>\n",
        "      <td> 1.046667</td>\n",
        "      <td> 1.046667</td>\n",
        "      <td> M</td>\n",
        "      <td> 1.046667</td>\n",
        "    </tr>\n",
        "    <tr>\n",
        "      <th>3</th>\n",
        "      <td> 1912</td>\n",
        "      <td> 1.026667</td>\n",
        "      <td> 1.026667</td>\n",
        "      <td> M</td>\n",
        "      <td> 1.026667</td>\n",
        "    </tr>\n",
        "    <tr>\n",
        "      <th>4</th>\n",
        "      <td> 1918</td>\n",
        "      <td> 1.023333</td>\n",
        "      <td> 1.023333</td>\n",
        "      <td> M</td>\n",
        "      <td> 1.023333</td>\n",
        "    </tr>\n",
        "  </tbody>\n",
        "</table>\n",
        "</div>"
       ],
       "metadata": {},
       "output_type": "pyout",
       "prompt_number": 19,
       "text": [
        "   year      mins      time sex   minutes\n",
        "0  1905  1.096667  1.096667   M  1.096667\n",
        "1  1908  1.093333  1.093333   M  1.093333\n",
        "2  1910  1.046667  1.046667   M  1.046667\n",
        "3  1912  1.026667  1.026667   M  1.026667\n",
        "4  1918  1.023333  1.023333   M  1.023333"
       ]
      }
     ],
     "prompt_number": 19
    },
    {
     "cell_type": "markdown",
     "metadata": {},
     "source": [
      "Such assignment operations do not change the original file from which the data were read, only the data frame in the current session of Python. This is an advantage, since it means that your data in the data file stay in their original state and therefore won\u2019t be corrupted by operations made during analysis."
     ]
    },
    {
     "cell_type": "markdown",
     "metadata": {},
     "source": [
      "## Sampling from a Sample Frame\n",
      "\n",
      "Much of statistical analysis is concerned with the consequences of drawing a sample from the population. Ideally, you will have a sampling frame that lists every member of the population from which the sample is to be drawn. With this in hand, you could treat the individual cases in the sampling frame as if they were cards in a deck of hands. To pick your random sample, shuffle the deck and deal out the desired number of cards.\n",
      "\n",
      "When doing real work in the \ufb01eld, you would use the randomly dealt cards to locate the real-world cases they correspond to. Sometimes in these tutorials, however, in order to let you explore the consequences of sampling, you will select a sample from an existing data set. For example, the `\"kidsfeet.csv\"` data set has `n=39` cases.\n",
      "\n",
      "<span class=\"dataset shadow\"><i class=\"icon-flag\" style=\"font-size: 1.5em;\"></i> [`kidsfeet.csv`][link]</span>\n",
      "\n",
      "[link]: http://www.mosaic-web.org/go/datasets/kidsfeet.csv"
     ]
    },
    {
     "cell_type": "code",
     "collapsed": false,
     "input": [
      "kids = pd.read_csv(\"http://www.mosaic-web.org/go/datasets/kidsfeet.csv\")\n",
      "kids.shape"
     ],
     "language": "python",
     "metadata": {},
     "outputs": [
      {
       "metadata": {},
       "output_type": "pyout",
       "prompt_number": 20,
       "text": [
        "(39, 8)"
       ]
      }
     ],
     "prompt_number": 20
    },
    {
     "cell_type": "markdown",
     "metadata": {},
     "source": [
      "There are a number of procedures to draw a random sample of 5 cases from this data frame. The preferred option however, is to randomly select a subset of case ids (in this case 5) using `np.random.choice`, and return a subsetted data frame using the `ix[]` operator."
     ]
    },
    {
     "cell_type": "markdown",
     "metadata": {},
     "source": [
      "<span class=\"note left shadow\">\n",
      "The `ix[]` property is a bit tricky to figure out at first. For more information, see [the official docs][selecting].\n",
      "</span>\n",
      "\n",
      "[selecting]: http://pandas.pydata.org/pandas-docs/stable/indexing.html"
     ]
    },
    {
     "cell_type": "code",
     "collapsed": false,
     "input": [
      "rows = np.random.choice(kids.index, 5, replace=False)\n",
      "kids.ix[rows]"
     ],
     "language": "python",
     "metadata": {},
     "outputs": [
      {
       "html": [
        "<div style=\"max-height:1000px;max-width:1500px;overflow:auto;\">\n",
        "<table border=\"1\" class=\"dataframe\">\n",
        "  <thead>\n",
        "    <tr style=\"text-align: right;\">\n",
        "      <th></th>\n",
        "      <th>name</th>\n",
        "      <th>birthmonth</th>\n",
        "      <th>birthyear</th>\n",
        "      <th>length</th>\n",
        "      <th>width</th>\n",
        "      <th>sex</th>\n",
        "      <th>biggerfoot</th>\n",
        "      <th>domhand</th>\n",
        "    </tr>\n",
        "  </thead>\n",
        "  <tbody>\n",
        "    <tr>\n",
        "      <th>23</th>\n",
        "      <td>    Erica</td>\n",
        "      <td>  9</td>\n",
        "      <td> 88</td>\n",
        "      <td> 24.5</td>\n",
        "      <td> 9.0</td>\n",
        "      <td> G</td>\n",
        "      <td> L</td>\n",
        "      <td> R</td>\n",
        "    </tr>\n",
        "    <tr>\n",
        "      <th>16</th>\n",
        "      <td> Caroline</td>\n",
        "      <td> 12</td>\n",
        "      <td> 87</td>\n",
        "      <td> 24.0</td>\n",
        "      <td> 8.7</td>\n",
        "      <td> G</td>\n",
        "      <td> R</td>\n",
        "      <td> L</td>\n",
        "    </tr>\n",
        "    <tr>\n",
        "      <th>4 </th>\n",
        "      <td>     Lang</td>\n",
        "      <td>  2</td>\n",
        "      <td> 88</td>\n",
        "      <td> 25.1</td>\n",
        "      <td> 8.9</td>\n",
        "      <td> B</td>\n",
        "      <td> L</td>\n",
        "      <td> R</td>\n",
        "    </tr>\n",
        "    <tr>\n",
        "      <th>32</th>\n",
        "      <td>    Leigh</td>\n",
        "      <td>  3</td>\n",
        "      <td> 88</td>\n",
        "      <td> 24.5</td>\n",
        "      <td> 8.6</td>\n",
        "      <td> G</td>\n",
        "      <td> L</td>\n",
        "      <td> R</td>\n",
        "    </tr>\n",
        "    <tr>\n",
        "      <th>7 </th>\n",
        "      <td>  Caitlin</td>\n",
        "      <td>  6</td>\n",
        "      <td> 88</td>\n",
        "      <td> 23.0</td>\n",
        "      <td> 8.8</td>\n",
        "      <td> G</td>\n",
        "      <td> L</td>\n",
        "      <td> R</td>\n",
        "    </tr>\n",
        "  </tbody>\n",
        "</table>\n",
        "</div>"
       ],
       "metadata": {},
       "output_type": "pyout",
       "prompt_number": 21,
       "text": [
        "        name  birthmonth  birthyear  length  width sex biggerfoot domhand\n",
        "23     Erica           9         88    24.5    9.0   G          L       R\n",
        "16  Caroline          12         87    24.0    8.7   G          R       L\n",
        "4       Lang           2         88    25.1    8.9   B          L       R\n",
        "32     Leigh           3         88    24.5    8.6   G          L       R\n",
        "7    Caitlin           6         88    23.0    8.8   G          L       R"
       ]
      }
     ],
     "prompt_number": 21
    },
    {
     "cell_type": "markdown",
     "metadata": {},
     "source": [
      "<span class=\"note right shadow\">\n",
      "To make things a bit more concise, you can `import np.random.choice as choice`, which will allow you to simply use `choice()` without including the library *and* module when typing.\n",
      "</span>"
     ]
    },
    {
     "cell_type": "markdown",
     "metadata": {},
     "source": [
      "This can also be done in a single line:"
     ]
    },
    {
     "cell_type": "code",
     "collapsed": false,
     "input": [
      "kids.ix[np.random.choice(kids.index, 5, replace=False)]"
     ],
     "language": "python",
     "metadata": {},
     "outputs": [
      {
       "html": [
        "<div style=\"max-height:1000px;max-width:1500px;overflow:auto;\">\n",
        "<table border=\"1\" class=\"dataframe\">\n",
        "  <thead>\n",
        "    <tr style=\"text-align: right;\">\n",
        "      <th></th>\n",
        "      <th>name</th>\n",
        "      <th>birthmonth</th>\n",
        "      <th>birthyear</th>\n",
        "      <th>length</th>\n",
        "      <th>width</th>\n",
        "      <th>sex</th>\n",
        "      <th>biggerfoot</th>\n",
        "      <th>domhand</th>\n",
        "    </tr>\n",
        "  </thead>\n",
        "  <tbody>\n",
        "    <tr>\n",
        "      <th>19</th>\n",
        "      <td> Heather</td>\n",
        "      <td> 3</td>\n",
        "      <td> 88</td>\n",
        "      <td> 25.5</td>\n",
        "      <td> 9.5</td>\n",
        "      <td> G</td>\n",
        "      <td> R</td>\n",
        "      <td> R</td>\n",
        "    </tr>\n",
        "    <tr>\n",
        "      <th>4 </th>\n",
        "      <td>    Lang</td>\n",
        "      <td> 2</td>\n",
        "      <td> 88</td>\n",
        "      <td> 25.1</td>\n",
        "      <td> 8.9</td>\n",
        "      <td> B</td>\n",
        "      <td> L</td>\n",
        "      <td> R</td>\n",
        "    </tr>\n",
        "    <tr>\n",
        "      <th>3 </th>\n",
        "      <td>    Josh</td>\n",
        "      <td> 1</td>\n",
        "      <td> 88</td>\n",
        "      <td> 25.2</td>\n",
        "      <td> 9.8</td>\n",
        "      <td> B</td>\n",
        "      <td> L</td>\n",
        "      <td> R</td>\n",
        "    </tr>\n",
        "    <tr>\n",
        "      <th>31</th>\n",
        "      <td> Caitlin</td>\n",
        "      <td> 7</td>\n",
        "      <td> 88</td>\n",
        "      <td> 22.5</td>\n",
        "      <td> 8.6</td>\n",
        "      <td> G</td>\n",
        "      <td> R</td>\n",
        "      <td> R</td>\n",
        "    </tr>\n",
        "    <tr>\n",
        "      <th>7 </th>\n",
        "      <td> Caitlin</td>\n",
        "      <td> 6</td>\n",
        "      <td> 88</td>\n",
        "      <td> 23.0</td>\n",
        "      <td> 8.8</td>\n",
        "      <td> G</td>\n",
        "      <td> L</td>\n",
        "      <td> R</td>\n",
        "    </tr>\n",
        "  </tbody>\n",
        "</table>\n",
        "</div>"
       ],
       "metadata": {},
       "output_type": "pyout",
       "prompt_number": 22,
       "text": [
        "       name  birthmonth  birthyear  length  width sex biggerfoot domhand\n",
        "19  Heather           3         88    25.5    9.5   G          R       R\n",
        "4      Lang           2         88    25.1    8.9   B          L       R\n",
        "3      Josh           1         88    25.2    9.8   B          L       R\n",
        "31  Caitlin           7         88    22.5    8.6   G          R       R\n",
        "7   Caitlin           6         88    23.0    8.8   G          L       R"
       ]
      }
     ],
     "prompt_number": 22
    },
    {
     "cell_type": "markdown",
     "metadata": {},
     "source": [
      "The results returned by the above methods will never contain the same case more than once (because we told the function *not* to sample with replacement), just as if you were dealing cards from a shuffled deck. In contrast, 're-sampling with replacement' replaces each case after it is dealt so that it can appear more than once in the result. You wouldn\u2019t want to do this to select from a sampling frame, but it turns out that there are valuable statistical uses for this sort of sampling with **replacement**. You\u2019ll make use of re-sampling in Tutorial 5 (Con\ufb01dence Intervals)."
     ]
    },
    {
     "cell_type": "code",
     "collapsed": false,
     "input": [
      "np.random.seed(1237) # Set seed so results are reproducible\n",
      "kids.ix[np.random.choice(kids.index, 5, replace=True)]"
     ],
     "language": "python",
     "metadata": {},
     "outputs": [
      {
       "html": [
        "<div style=\"max-height:1000px;max-width:1500px;overflow:auto;\">\n",
        "<table border=\"1\" class=\"dataframe\">\n",
        "  <thead>\n",
        "    <tr style=\"text-align: right;\">\n",
        "      <th></th>\n",
        "      <th>name</th>\n",
        "      <th>birthmonth</th>\n",
        "      <th>birthyear</th>\n",
        "      <th>length</th>\n",
        "      <th>width</th>\n",
        "      <th>sex</th>\n",
        "      <th>biggerfoot</th>\n",
        "      <th>domhand</th>\n",
        "    </tr>\n",
        "  </thead>\n",
        "  <tbody>\n",
        "    <tr>\n",
        "      <th>11</th>\n",
        "      <td>      Ray</td>\n",
        "      <td> 3</td>\n",
        "      <td> 88</td>\n",
        "      <td> 24.8</td>\n",
        "      <td> 8.9</td>\n",
        "      <td> B</td>\n",
        "      <td> L</td>\n",
        "      <td> R</td>\n",
        "    </tr>\n",
        "    <tr>\n",
        "      <th>25</th>\n",
        "      <td>     Glen</td>\n",
        "      <td> 7</td>\n",
        "      <td> 88</td>\n",
        "      <td> 27.1</td>\n",
        "      <td> 9.4</td>\n",
        "      <td> B</td>\n",
        "      <td> L</td>\n",
        "      <td> R</td>\n",
        "    </tr>\n",
        "    <tr>\n",
        "      <th>36</th>\n",
        "      <td> Teshanna</td>\n",
        "      <td> 3</td>\n",
        "      <td> 88</td>\n",
        "      <td> 26.0</td>\n",
        "      <td> 9.0</td>\n",
        "      <td> G</td>\n",
        "      <td> L</td>\n",
        "      <td> R</td>\n",
        "    </tr>\n",
        "    <tr>\n",
        "      <th>7 </th>\n",
        "      <td>  Caitlin</td>\n",
        "      <td> 6</td>\n",
        "      <td> 88</td>\n",
        "      <td> 23.0</td>\n",
        "      <td> 8.8</td>\n",
        "      <td> G</td>\n",
        "      <td> L</td>\n",
        "      <td> R</td>\n",
        "    </tr>\n",
        "    <tr>\n",
        "      <th>25</th>\n",
        "      <td>     Glen</td>\n",
        "      <td> 7</td>\n",
        "      <td> 88</td>\n",
        "      <td> 27.1</td>\n",
        "      <td> 9.4</td>\n",
        "      <td> B</td>\n",
        "      <td> L</td>\n",
        "      <td> R</td>\n",
        "    </tr>\n",
        "  </tbody>\n",
        "</table>\n",
        "</div>"
       ],
       "metadata": {},
       "output_type": "pyout",
       "prompt_number": 23,
       "text": [
        "        name  birthmonth  birthyear  length  width sex biggerfoot domhand\n",
        "11       Ray           3         88    24.8    8.9   B          L       R\n",
        "25      Glen           7         88    27.1    9.4   B          L       R\n",
        "36  Teshanna           3         88    26.0    9.0   G          L       R\n",
        "7    Caitlin           6         88    23.0    8.8   G          L       R\n",
        "25      Glen           7         88    27.1    9.4   B          L       R"
       ]
      }
     ],
     "prompt_number": 23
    },
    {
     "cell_type": "markdown",
     "metadata": {},
     "source": [
      "Notice that 'Glen' was sampled twice."
     ]
    },
    {
     "cell_type": "markdown",
     "metadata": {},
     "source": [
      "### Reference\n",
      "\n",
      "As with all 'Statistical Modeling: A Fresh Approach for Python' tutorials, this tutorial is based directly on material from ['Statistical Modeling: A Fresh Approach (2nd Edition)'][book] by [Daniel Kaplan][daniel-kaplan]. This tutorial is based on Chapter 2: Data: Cases, Variables, Samples.\n",
      "\n",
      "I have made an effort to keep the text and explanations consistent between the original (R-based) version and the Python tutorials, in order to keep things comparable. With that in mind, any errors, omissions, and/or differences between the two versions are mine, and any questions, comments, and/or concerns should be [directed to me][].\n",
      "\n",
      "[book]: http://www.mosaic-web.org/go/StatisticalModeling/\n",
      "[daniel-kaplan]: http://www.macalester.edu/~kaplan/\n",
      "[directed to me]: mailto:carson.farmer@gmail.com"
     ]
    }
   ],
   "metadata": {}
  }
 ]
}